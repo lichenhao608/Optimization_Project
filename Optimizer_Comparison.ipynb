{
 "cells": [
  {
   "cell_type": "code",
   "execution_count": 2,
   "metadata": {},
   "outputs": [],
   "source": [
    "import numpy as np\n",
    "import matplotlib.pyplot as plt\n",
    "%matplotlib inline\n",
    "\n",
    "from optimizer import *\n",
    "from LookAhead import LookAheadOpt\n",
    "\n",
    "import evaluate"
   ]
  },
  {
   "cell_type": "code",
   "execution_count": 3,
   "metadata": {},
   "outputs": [],
   "source": [
    "def quad_10(x):\n",
    "    return x[0]**2 + x[1]**2 + x[2]**2 + x[3]**2 + x[4]**2 + x[5]**2 + x[6]**2 + x[7]**2 + x[8]**2 + x[9]**2\n",
    "\n",
    "def rosen(x, a=1, b=5):\n",
    "    n = len(x)\n",
    "    return sum((a - x[i])**2 + b*(x[i+1]- x[i]**2)**2 for i in range(n-1))"
   ]
  },
  {
   "cell_type": "code",
   "execution_count": null,
   "metadata": {},
   "outputs": [],
   "source": [
    "adam = AdamOpt(10)\n",
    "momentum = MomemtunOpt(10)\n",
    "\n",
    "lookahead_adam = LookAheadOpt(adam)\n",
    "lookahead_mom = LookAheadOpt(momentum)\n",
    "\n",
    "initial_point_list = evaluate.generate_random_num()\n",
    "\n",
    "def process(opt, func, x, k=2000):\n",
    "    p = np.zeros((k+1, 10))\n",
    "    p[0] = x\n",
    "    \n",
    "    for i in range(k):\n",
    "        x = opt.step(func, x)\n",
    "        p[i+1] = x\n",
    "    \n",
    "    return p\n",
    "\n",
    "def evaluate(optimizer, func, starting_points):\n",
    "    for xi_set in starting_points:\n",
    "        np_xi_set = np.array(xi_set)\n",
    "\n",
    "    \n"
   ]
  }
 ],
 "metadata": {
  "kernelspec": {
   "display_name": "Python 3",
   "language": "python",
   "name": "python3"
  },
  "language_info": {
   "codemirror_mode": {
    "name": "ipython",
    "version": 3
   },
   "file_extension": ".py",
   "mimetype": "text/x-python",
   "name": "python",
   "nbconvert_exporter": "python",
   "pygments_lexer": "ipython3",
   "version": "3.7.3"
  }
 },
 "nbformat": 4,
 "nbformat_minor": 2
}
